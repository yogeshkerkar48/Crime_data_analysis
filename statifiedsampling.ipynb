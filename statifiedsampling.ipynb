{
 "cells": [
  {
   "cell_type": "code",
   "execution_count": 1,
   "metadata": {},
   "outputs": [
    {
     "name": "stdout",
     "output_type": "stream",
     "text": [
      "Starting Spark application\n"
     ]
    },
    {
     "data": {
      "text/html": [
       "<table>\n",
       "<tr><th>ID</th><th>YARN Application ID</th><th>Kind</th><th>State</th><th>Spark UI</th><th>Driver log</th><th>Current session?</th></tr><tr><td>1</td><td>application_1753689413660_0002</td><td>pyspark</td><td>idle</td><td><a target=\"_blank\" href=\"http://ip-172-31-25-17.ec2.internal:20888/proxy/application_1753689413660_0002/\">Link</a></td><td><a target=\"_blank\" href=\"http://ip-172-31-18-88.ec2.internal:8042/node/containerlogs/container_1753689413660_0002_01_000001/livy\">Link</a></td><td>✔</td></tr></table>"
      ],
      "text/plain": [
       "<IPython.core.display.HTML object>"
      ]
     },
     "metadata": {},
     "output_type": "display_data"
    },
    {
     "data": {
      "application/vnd.jupyter.widget-view+json": {
       "model_id": "",
       "version_major": 2,
       "version_minor": 0
      },
      "text/plain": [
       "FloatProgress(value=0.0, bar_style='info', description='Progress:', layout=Layout(height='25px', width='50%'),…"
      ]
     },
     "metadata": {},
     "output_type": "display_data"
    },
    {
     "name": "stdout",
     "output_type": "stream",
     "text": [
      "SparkSession available as 'spark'.\n"
     ]
    },
    {
     "data": {
      "application/vnd.jupyter.widget-view+json": {
       "model_id": "",
       "version_major": 2,
       "version_minor": 0
      },
      "text/plain": [
       "FloatProgress(value=0.0, bar_style='info', description='Progress:', layout=Layout(height='25px', width='50%'),…"
      ]
     },
     "metadata": {},
     "output_type": "display_data"
    }
   ],
   "source": [
    "from pyspark.sql import SparkSession"
   ]
  },
  {
   "cell_type": "code",
   "execution_count": 6,
   "metadata": {},
   "outputs": [
    {
     "data": {
      "application/vnd.jupyter.widget-view+json": {
       "model_id": "",
       "version_major": 2,
       "version_minor": 0
      },
      "text/plain": [
       "FloatProgress(value=0.0, bar_style='info', description='Progress:', layout=Layout(height='25px', width='50%'),…"
      ]
     },
     "metadata": {},
     "output_type": "display_data"
    }
   ],
   "source": [
    "from pyspark.sql.functions import col"
   ]
  },
  {
   "cell_type": "code",
   "execution_count": null,
   "metadata": {},
   "outputs": [
    {
     "data": {
      "application/vnd.jupyter.widget-view+json": {
       "model_id": "",
       "version_major": 2,
       "version_minor": 0
      },
      "text/plain": [
       "FloatProgress(value=0.0, bar_style='info', description='Progress:', layout=Layout(height='25px', width='50%'),…"
      ]
     },
     "metadata": {},
     "output_type": "display_data"
    }
   ],
   "source": [
    "csv_path = \"s3://etlpipeline1234/statified_sample_data.csv\"\n",
    "df = spark.read.csv(parquet_path)"
   ]
  },
  {
   "cell_type": "code",
   "execution_count": 9,
   "metadata": {},
   "outputs": [
    {
     "data": {
      "application/vnd.jupyter.widget-view+json": {
       "model_id": "",
       "version_major": 2,
       "version_minor": 0
      },
      "text/plain": [
       "FloatProgress(value=0.0, bar_style='info', description='Progress:', layout=Layout(height='25px', width='50%'),…"
      ]
     },
     "metadata": {},
     "output_type": "display_data"
    },
    {
     "name": "stdout",
     "output_type": "stream",
     "text": [
      "+--------+-----------+------------------+--------------------+------+--------+--------------+----+--------------+--------+------------+------------+----+--------+---------+------------------+--------+--------+-----------+-------------------+--------+-------------------+--------------+--------+-----------+-----------+------------+-------------------+--------------+--------+--------------+-------------------+\n",
      "|      id|case_number|      primary_type|location_description|arrest|domestic|          area|ward|community_area|fbi_code|x_coordinate|y_coordinate|year|latitude|longitude|weapon_description|vict_age|vict_sex|victim_race|           date_occ|time_occ|          date_rptd| premises_desc|district|suspect_age|suspect_sex|suspect_race|        case_status|crime_category|zip_code|priority_level|repeat_offense_flag|\n",
      "+--------+-----------+------------------+--------------------+------+--------+--------------+----+--------------+--------+------------+------------+----+--------+---------+------------------+--------+--------+-----------+-------------------+--------+-------------------+--------------+--------+-----------+-----------+------------+-------------------+--------------+--------+--------------+-------------------+\n",
      "|10000000|  CPD383874|   Criminal Damage|      Public Transit| false|    true|     West Side| W40|        Austin|     290|     1150092|     1899985|2017| 41.8699| -87.6385|           Unknown|      75| Unknown|      White|9999-12-31 00:00:00|    2113|9999-12-31 00:00:00|   Parking Lot|     D17|         59|          M|     Unknown|               Open|      Property|   60625|        Medium|              false|\n",
      "|10000001|  CPD826714|             Theft|              Street| false|    true|    South Side| W33|       Unknown|     23H|     1150019|     1899992|2024| 41.8847|  -87.638|           Unknown|      32|       F|      Black|9999-12-31 00:00:00|    2041|9999-12-31 00:00:00|        Street|     D16|         69|          X|       White|             Closed|      Property|   60601|        Medium|              false|\n",
      "|10000002|  CPD376012|   Criminal Damage|              Street|  true|   false|     West Side| W28|      Lakeview|     290|     1150030|     1900088|2021| 41.8762| -87.6309|             Knife|      -1|       X|   Hispanic|9999-12-31 00:00:00|    0443|9999-12-31 00:00:00|Public Transit|     D07|         69|          X|       Black|Under Investigation|      Property|   60615|        Medium|              false|\n",
      "|10000003|  CPD417703|           Robbery|        Retail Store| false|   false|    North Side| W22| Humboldt Park|     120|     1150069|     1900040|2008| 41.8852| -87.6266|             Knife|      31|       M|      Black|9999-12-31 00:00:00|    0431|9999-12-31 00:00:00|         Alley|     D01|         -1|          X|       White|               Open|       Violent|   60615|          High|              false|\n",
      "|10000004|  CPD524301|Disorderly Conduct|      Public Transit| false|   false|Far South Side| W41|     Englewood|     90C|     1150081|     1899956|2001| 41.8759| -87.6218|        Strong-Arm|      80|       F|    Unknown|9999-12-31 00:00:00|    0005|9999-12-31 00:00:00|       Unknown|     D01|         -1|          M|       White|               Open|         Other|   60619|           Low|              false|\n",
      "+--------+-----------+------------------+--------------------+------+--------+--------------+----+--------------+--------+------------+------------+----+--------+---------+------------------+--------+--------+-----------+-------------------+--------+-------------------+--------------+--------+-----------+-----------+------------+-------------------+--------------+--------+--------------+-------------------+\n",
      "only showing top 5 rows"
     ]
    }
   ],
   "source": [
    "df.show(5)"
   ]
  },
  {
   "cell_type": "code",
   "execution_count": 10,
   "metadata": {},
   "outputs": [
    {
     "data": {
      "application/vnd.jupyter.widget-view+json": {
       "model_id": "",
       "version_major": 2,
       "version_minor": 0
      },
      "text/plain": [
       "FloatProgress(value=0.0, bar_style='info', description='Progress:', layout=Layout(height='25px', width='50%'),…"
      ]
     },
     "metadata": {},
     "output_type": "display_data"
    }
   ],
   "source": [
    "primary_types = df.select(\"primary_type\").distinct().rdd.flatMap(lambda x: x).collect()"
   ]
  },
  {
   "cell_type": "code",
   "execution_count": 19,
   "metadata": {},
   "outputs": [
    {
     "data": {
      "application/vnd.jupyter.widget-view+json": {
       "model_id": "",
       "version_major": 2,
       "version_minor": 0
      },
      "text/plain": [
       "FloatProgress(value=0.0, bar_style='info', description='Progress:', layout=Layout(height='25px', width='50%'),…"
      ]
     },
     "metadata": {},
     "output_type": "display_data"
    }
   ],
   "source": [
    "fractions = {ptype: 0.01 for ptype in primary_types}  # Adjust sample rate as needed"
   ]
  },
  {
   "cell_type": "code",
   "execution_count": 20,
   "metadata": {},
   "outputs": [
    {
     "data": {
      "application/vnd.jupyter.widget-view+json": {
       "model_id": "",
       "version_major": 2,
       "version_minor": 0
      },
      "text/plain": [
       "FloatProgress(value=0.0, bar_style='info', description='Progress:', layout=Layout(height='25px', width='50%'),…"
      ]
     },
     "metadata": {},
     "output_type": "display_data"
    }
   ],
   "source": [
    "sampled_df = df.stat.sampleBy(\"primary_type\", fractions, seed=42)"
   ]
  },
  {
   "cell_type": "code",
   "execution_count": 21,
   "metadata": {},
   "outputs": [
    {
     "data": {
      "application/vnd.jupyter.widget-view+json": {
       "model_id": "",
       "version_major": 2,
       "version_minor": 0
      },
      "text/plain": [
       "FloatProgress(value=0.0, bar_style='info', description='Progress:', layout=Layout(height='25px', width='50%'),…"
      ]
     },
     "metadata": {},
     "output_type": "display_data"
    }
   ],
   "source": [
    "output_path = \"s3://finalyearproject201/sampledata/\""
   ]
  },
  {
   "cell_type": "code",
   "execution_count": 22,
   "metadata": {},
   "outputs": [
    {
     "data": {
      "application/vnd.jupyter.widget-view+json": {
       "model_id": "",
       "version_major": 2,
       "version_minor": 0
      },
      "text/plain": [
       "FloatProgress(value=0.0, bar_style='info', description='Progress:', layout=Layout(height='25px', width='50%'),…"
      ]
     },
     "metadata": {},
     "output_type": "display_data"
    },
    {
     "name": "stdout",
     "output_type": "stream",
     "text": [
      "done"
     ]
    }
   ],
   "source": [
    "sampled_df.coalesce(1).write \\\n",
    "    .option(\"header\", True) \\\n",
    "    .mode(\"overwrite\") \\\n",
    "    .csv(output_path)\n",
    "print(\"done\")"
   ]
  },
  {
   "cell_type": "code",
   "execution_count": null,
   "metadata": {},
   "outputs": [],
   "source": []
  }
 ],
 "metadata": {
  "kernelspec": {
   "display_name": "PySpark",
   "language": "",
   "name": "pysparkkernel"
  },
  "language_info": {
   "codemirror_mode": {
    "name": "python",
    "version": 3
   },
   "mimetype": "text/x-python",
   "name": "pyspark",
   "pygments_lexer": "python3"
  }
 },
 "nbformat": 4,
 "nbformat_minor": 4
}
